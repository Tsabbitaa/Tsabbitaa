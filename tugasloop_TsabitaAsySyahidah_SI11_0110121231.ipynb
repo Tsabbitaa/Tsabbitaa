{
  "nbformat": 4,
  "nbformat_minor": 0,
  "metadata": {
    "colab": {
      "name": "tugasloop_TsabitaAsySyahidah_SI11.ipynb",
      "provenance": []
    },
    "kernelspec": {
      "name": "python3",
      "display_name": "Python 3"
    },
    "language_info": {
      "name": "python"
    }
  },
  "cells": [
    {
      "cell_type": "code",
      "metadata": {
        "colab": {
          "base_uri": "https://localhost:8080/"
        },
        "id": "pYybs0iWs04N",
        "outputId": "f91a04cd-77d9-4094-f36e-bbd004912eba"
      },
      "source": [
        "print(\"\\nTugas Loop\")\n",
        "def main():\n",
        "  fileName=input(\"what file are the numbers in?\")\n",
        "  infile=open(fileName,'r')\n",
        "  sum=0.0\n",
        "  count=0\n",
        "  for line in infile:\n",
        "    print(float (line))\n",
        "    sum=sum+float(line)\n",
        "    count=count+1\n",
        "  print(\"\\nThe average of the number is\",sum/count)\n",
        "  print(\"\\nBanyak data\",count)\n",
        "  print(\"\\nJumlah seluruh data\",sum)\n",
        "main()"
      ],
      "execution_count": 1,
      "outputs": [
        {
          "output_type": "stream",
          "name": "stdout",
          "text": [
            "\n",
            "Tugas Loop\n",
            "what file are the numbers in?tanggal_ultah.txt\n",
            "8.0\n",
            "19.0\n",
            "15.0\n",
            "13.0\n",
            "2.0\n",
            "31.0\n",
            "1.0\n",
            "8.0\n",
            "\n",
            "The average of the number is 12.125\n",
            "\n",
            "Banyak data 8\n",
            "\n",
            "Jumlah seluruh data 97.0\n"
          ]
        }
      ]
    }
  ]
}